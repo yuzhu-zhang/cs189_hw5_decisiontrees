{
 "cells": [
  {
   "cell_type": "code",
   "execution_count": 1,
   "metadata": {
    "collapsed": false
   },
   "outputs": [],
   "source": [
    "%matplotlib inline\n",
    "\n",
    "import numpy as np\n",
    "import matplotlib.pyplot as plt\n",
    "from sklearn import preprocessing\n",
    "from sklearn.utils import shuffle\n",
    "from scipy import io as spio\n",
    "from hw5_classes import *\n",
    "from sklearn.metrics import accuracy_score\n"
   ]
  },
  {
   "cell_type": "code",
   "execution_count": 2,
   "metadata": {
    "collapsed": false
   },
   "outputs": [],
   "source": [
    "spam_data_mat = spio.loadmat('../spam_dist/spam_data.mat')\n",
    "spam_train = spam_data_mat['training_data']\n",
    "spam_labels = spam_data_mat['training_labels'].flatten()\n",
    "\n",
    "spam_train, spam_labels = shuffle(spam_train, spam_labels)\n",
    "\n",
    "spam_test = spam_data_mat['test_data']"
   ]
  },
  {
   "cell_type": "code",
   "execution_count": 3,
   "metadata": {
    "collapsed": false
   },
   "outputs": [],
   "source": [
    "spam_train1 = spam_train[:10000, :]\n",
    "spam_labels1 = spam_labels[:10000]\n",
    "\n",
    "spam_train2 = spam_train[15000:23000, :]\n",
    "spam_labels2 = spam_labels[15000:23000]\n",
    "\n",
    "isBinaryFeature = np.zeros(spam_train1.shape[1]).tolist()\n",
    "clf = DecisionTree(isBinaryFeature=isBinaryFeature, maxDepth=15)\n",
    "clf.train(spam_train1, spam_labels1)"
   ]
  },
  {
   "cell_type": "code",
   "execution_count": 4,
   "metadata": {
    "collapsed": false
   },
   "outputs": [
    {
     "name": "stdout",
     "output_type": "stream",
     "text": [
      "score:  0.761625\n"
     ]
    }
   ],
   "source": [
    "predicted_labels = clf.predict(spam_train2)\n",
    "\n",
    "print 'score: ', accuracy_score(spam_labels2, predicted_labels)"
   ]
  },
  {
   "cell_type": "code",
   "execution_count": 5,
   "metadata": {
    "collapsed": false
   },
   "outputs": [
    {
     "name": "stdout",
     "output_type": "stream",
     "text": [
      "Creating tree  0\n",
      "Creating tree  1\n",
      "Creating tree  2\n",
      "Creating tree  3\n",
      "Creating tree  4\n",
      "Creating tree  5\n",
      "Creating tree  6\n",
      "Creating tree  7\n",
      "Creating tree  8\n",
      "Creating tree  9\n",
      "Creating tree  10\n",
      "Creating tree  11\n",
      "Creating tree  12\n",
      "Creating tree  13\n",
      "Creating tree  14\n",
      "Creating tree  15\n",
      "Creating tree  16\n",
      "Creating tree  17\n",
      "Creating tree  18\n",
      "Creating tree  19\n",
      "Creating tree  20\n",
      "Creating tree  21\n",
      "Creating tree  22\n",
      "Creating tree  23\n",
      "Creating tree  24\n",
      "Creating tree  25\n",
      "Creating tree  26\n",
      "Creating tree  27\n",
      "Creating tree  28\n",
      "Creating tree  29\n"
     ]
    }
   ],
   "source": [
    "\n",
    "clf_forest = RandomForest(isBinaryFeature, numTrees=30, maxDepth=15)\n",
    "clf_forest.train(spam_train1, spam_labels1)"
   ]
  },
  {
   "cell_type": "code",
   "execution_count": 6,
   "metadata": {
    "collapsed": false
   },
   "outputs": [
    {
     "name": "stdout",
     "output_type": "stream",
     "text": [
      "score:  0.7725\n"
     ]
    }
   ],
   "source": [
    "predictedLabels_forest = clf_forest.predict(spam_train2)\n",
    "\n",
    "print 'score: ', accuracy_score(spam_labels2, predictedLabels_forest)"
   ]
  },
  {
   "cell_type": "markdown",
   "metadata": {},
   "source": [
    "## Train on census and titanic"
   ]
  },
  {
   "cell_type": "code",
   "execution_count": 7,
   "metadata": {
    "collapsed": false
   },
   "outputs": [
    {
     "name": "stdout",
     "output_type": "stream",
     "text": [
      "['age', 'workclass', 'fnlwgt', 'education', 'education-num', 'marital-status', 'occupation', 'relationship', 'race', 'sex', 'capital-gain', 'capital-loss', 'hours-per-week', 'native-country', 'label']\n"
     ]
    }
   ],
   "source": [
    "with open('../census_dist/train_data.csv', 'r') as f:\n",
    "    print [x.strip() for x in f.readline().split(',')]"
   ]
  },
  {
   "cell_type": "code",
   "execution_count": 14,
   "metadata": {
    "collapsed": false
   },
   "outputs": [
    {
     "name": "stdout",
     "output_type": "stream",
     "text": [
      "['59' 'Private' '307423' '9th' '5' 'Never-married' 'Other-service'\n",
      " 'Not-in-family' 'Black' 'Male' '0' '0' '50' 'United-States' '0']\n"
     ]
    }
   ],
   "source": [
    "census_data = np.genfromtxt('../census_dist/train_data.csv', delimiter=',', dtype=None)\n",
    "print census_data[1]\n",
    "isNumericalFeature = [True, False, True, False, True, False, False, False, False, False, True, True, True, False, True]"
   ]
  },
  {
   "cell_type": "code",
   "execution_count": 7,
   "metadata": {
    "collapsed": false
   },
   "outputs": [],
   "source": [
    "# test_predicted_labels = clf.predict(spam_test)"
   ]
  },
  {
   "cell_type": "code",
   "execution_count": 8,
   "metadata": {
    "collapsed": true
   },
   "outputs": [],
   "source": [
    "# np.savetxt('kagglespam_v2.csv', test_predicted_labels, fmt='%u', delimiter=',')"
   ]
  },
  {
   "cell_type": "code",
   "execution_count": null,
   "metadata": {
    "collapsed": false
   },
   "outputs": [],
   "source": []
  },
  {
   "cell_type": "code",
   "execution_count": 9,
   "metadata": {
    "collapsed": false
   },
   "outputs": [],
   "source": [
    "# print clf.rootNode.split_rule"
   ]
  },
  {
   "cell_type": "code",
   "execution_count": 10,
   "metadata": {
    "collapsed": false
   },
   "outputs": [],
   "source": [
    "# A = np.array([0,0,0,0,0,0,0,0,0,0,0,1,1,1,1,1,1,2,2,2,3,3])\n",
    "\n",
    "# print np.random.choice(A, 4, replace=True)"
   ]
  },
  {
   "cell_type": "code",
   "execution_count": 11,
   "metadata": {
    "collapsed": false
   },
   "outputs": [],
   "source": [
    "# int(np.floor(5.5))"
   ]
  },
  {
   "cell_type": "code",
   "execution_count": 12,
   "metadata": {
    "collapsed": false
   },
   "outputs": [],
   "source": [
    "# np.round(np.array([0.3,0.4,0.5,0.6,0.9,1.1]))"
   ]
  },
  {
   "cell_type": "code",
   "execution_count": null,
   "metadata": {
    "collapsed": true
   },
   "outputs": [],
   "source": []
  }
 ],
 "metadata": {
  "kernelspec": {
   "display_name": "Python 2",
   "language": "python",
   "name": "python2"
  },
  "language_info": {
   "codemirror_mode": {
    "name": "ipython",
    "version": 2
   },
   "file_extension": ".py",
   "mimetype": "text/x-python",
   "name": "python",
   "nbconvert_exporter": "python",
   "pygments_lexer": "ipython2",
   "version": "2.7.11"
  }
 },
 "nbformat": 4,
 "nbformat_minor": 2
}
