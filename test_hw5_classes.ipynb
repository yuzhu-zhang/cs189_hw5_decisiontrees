{
 "cells": [
  {
   "cell_type": "code",
   "execution_count": 2,
   "metadata": {
    "collapsed": true
   },
   "outputs": [],
   "source": [
    "%matplotlib inline\n",
    "\n",
    "import numpy as np\n",
    "import matplotlib.pyplot as plt\n",
    "from sklearn import preprocessing\n",
    "from scipy import io as spio\n",
    "\n",
    "\n"
   ]
  },
  {
   "cell_type": "code",
   "execution_count": null,
   "metadata": {
    "collapsed": true
   },
   "outputs": [],
   "source": []
  },
  {
   "cell_type": "code",
   "execution_count": 3,
   "metadata": {
    "collapsed": false
   },
   "outputs": [
    {
     "data": {
      "text/plain": [
       "(array([1, 2, 3, 4, 5]), array([1, 3, 4, 2, 1]))"
      ]
     },
     "execution_count": 3,
     "metadata": {},
     "output_type": "execute_result"
    }
   ],
   "source": [
    "np.unique(np.array([1,2,3,2,2,3,4,5,3,4,3]), return_counts=True)"
   ]
  },
  {
   "cell_type": "markdown",
   "metadata": {},
   "source": [
    "## Testing impurity"
   ]
  },
  {
   "cell_type": "code",
   "execution_count": 44,
   "metadata": {
    "collapsed": true
   },
   "outputs": [],
   "source": [
    "def impurity(left_label_hist, right_label_hist):\n",
    "    \"\"\"\n",
    "    Calculates the impurity (badness) of a split. Uses entropy measure.\n",
    "    :param left_label_hist: an array where key is 0 or 1, value is count\n",
    "    :param right_label_hist:\n",
    "    :return: impurity\n",
    "    \"\"\"\n",
    "    #: modified log2 function to account for when proportion == 0\n",
    "    def log2_modified(proportion):\n",
    "        if proportion == 0:\n",
    "            return 0\n",
    "        else:\n",
    "            return np.log2(proportion)\n",
    "\n",
    "\n",
    "    total_count = left_label_hist[0] + right_label_hist[0] + left_label_hist[1] + right_label_hist[1]\n",
    "    p_0_S = 1.0 * (left_label_hist[0] + right_label_hist[0]) / total_count #p_c is proportion of points in S that are in class C\n",
    "    p_1_S = 1.0 * (left_label_hist[1] + right_label_hist[1]) / total_count\n",
    "    H_S = -(p_0_S * log2_modified(p_0_S) + p_1_S * log2_modified(p_1_S)) # H(S), i.e. the entropy of S\n",
    "\n",
    "    left_hist_count = (left_label_hist[0] + left_label_hist[1])\n",
    "    if left_hist_count > 0:\n",
    "        p_0_S_left = 1.0 * left_label_hist[0] / left_hist_count\n",
    "        p_1_S_left = 1.0 * left_label_hist[1] / left_hist_count\n",
    "        H_S_left = -(p_0_S_left * log2_modified(p_0_S_left) + p_1_S_left * log2_modified(p_1_S_left))  # H(S_l), i.e. the entropy of S_l\n",
    "    else:\n",
    "        H_S_left = 0\n",
    "    \n",
    "    right_hist_count = (right_label_hist[0] + right_label_hist[1])\n",
    "    if right_hist_count > 0:    \n",
    "        p_0_S_right = 1.0 * right_label_hist[0] / right_hist_count\n",
    "        p_1_S_right = 1.0 * right_label_hist[1] / right_hist_count\n",
    "        H_S_right = -(p_0_S_right * log2_modified(p_0_S_right) + p_1_S_right * log2_modified(p_1_S_right))  # H(S_l), i.e. the entropy of S_l\n",
    "    else:\n",
    "        H_S_right = 0\n",
    "    \n",
    "    H_after = (left_hist_count * H_S_left + right_hist_count * H_S_right) / total_count\n",
    "\n",
    "    info_gain = H_S - H_after\n",
    "\n",
    "    return -(info_gain)"
   ]
  },
  {
   "cell_type": "code",
   "execution_count": 45,
   "metadata": {
    "collapsed": false
   },
   "outputs": [
    {
     "name": "stdout",
     "output_type": "stream",
     "text": [
      "-0.0131373563858\n"
     ]
    }
   ],
   "source": [
    "left_label_hist = np.array([1,9])\n",
    "right_label_hist = np.array([0,1])\n",
    "print impurity(left_label_hist, right_label_hist)"
   ]
  },
  {
   "cell_type": "markdown",
   "metadata": {
    "collapsed": true
   },
   "source": [
    "## Testing segmenter(.)"
   ]
  },
  {
   "cell_type": "code",
   "execution_count": 63,
   "metadata": {
    "collapsed": false
   },
   "outputs": [],
   "source": [
    "def segmenter(data, labels): #@@@\n",
    "    numFeatures = data.shape[1]\n",
    "\n",
    "    bestImpurity = float('inf')\n",
    "    bestFeature = None # index of best feature\n",
    "    bestThreshold = None # the elements with the bestThreshold value are in the right-hand set\n",
    "\n",
    "    for i in np.arange(numFeatures):\n",
    "        left_label_hist = np.array([0, 0])\n",
    "        right_label_hist = np.array([labels.shape[0] - labels.sum(), labels.sum()])\n",
    "\n",
    "        if isBinaryFeature[i] == False: # continuous feature #@@@\n",
    "            sorted_vals = np.sort(data[:, i])\n",
    "            indices = np.argsort(data[:, i])\n",
    "            for j in np.arange(sorted_vals.shape[0]):\n",
    "                if j != 0:\n",
    "                    label_j1 = labels[indices[j-1]] # label of (j-1)th elem in the sorted_vals array\n",
    "                    left_label_hist[label_j1] += 1\n",
    "                    right_label_hist[label_j1] -= 1\n",
    "\n",
    "                imp = impurity(left_label_hist, right_label_hist) #@@@\n",
    "                if imp < bestImpurity:\n",
    "                    bestImpurity = imp\n",
    "                    bestFeature = i\n",
    "                    bestThreshold = sorted_vals[j]\n",
    "        else:  # binary feature\n",
    "            for threshold in [0, 1]:\n",
    "                if threshold == 1:\n",
    "                    # add all elems with feature as value 0 (NOT LABEL) to left hist\n",
    "                    for k in np.arange(data[:, i].shape[0]):\n",
    "                        if data[k, i] == 0:\n",
    "                            left_label_hist[labels[k]] += 1\n",
    "                            right_label_hist[labels[k]] -= 1\n",
    "                imp = impurity(left_label_hist, right_label_hist) #@@@\n",
    "                if imp < bestImpurity:\n",
    "                    bestImpurity = imp\n",
    "                    bestFeature = i\n",
    "                    bestThreshold = threshold\n",
    "\n",
    "    if bestFeature == None or bestThreshold == None:\n",
    "        print 'Error: in segmenter(.), bestFeature or bestThreshold were not found.'\n",
    "\n",
    "    return bestFeature, bestThreshold"
   ]
  },
  {
   "cell_type": "code",
   "execution_count": 74,
   "metadata": {
    "collapsed": false
   },
   "outputs": [
    {
     "name": "stdout",
     "output_type": "stream",
     "text": [
      "3.1\n",
      "True\n",
      "3.1\n",
      "3.1\n"
     ]
    }
   ],
   "source": [
    "isBinaryFeature = [False, True, True]\n",
    "data = np.array([[3, 1, 0],\n",
    "                [3.5, 0, 1],\n",
    "                [2.2, 1, 0],\n",
    "                [3.1, 0, 1],\n",
    "                [5, 0, 1],\n",
    "                [1.2, 1, 0]])\n",
    "labels = np.array([0, 1, 0, 1, 1, 0])\n",
    "\n",
    "splitFeature, splitThreshold = segmenter(data, labels)\n",
    "\n",
    "print splitThreshol\n",
    "\n",
    "print data[3,0] == splitThreshold\n",
    "print data[3,0]\n",
    "print splitThreshold"
   ]
  },
  {
   "cell_type": "code",
   "execution_count": 78,
   "metadata": {
    "collapsed": false
   },
   "outputs": [
    {
     "data": {
      "text/plain": [
       "array([ 0.,  0.,  0.,  0.])"
      ]
     },
     "execution_count": 78,
     "metadata": {},
     "output_type": "execute_result"
    }
   ],
   "source": [
    "np.zeros((4))"
   ]
  },
  {
   "cell_type": "code",
   "execution_count": null,
   "metadata": {
    "collapsed": true
   },
   "outputs": [],
   "source": []
  }
 ],
 "metadata": {
  "kernelspec": {
   "display_name": "Python 2",
   "language": "python",
   "name": "python2"
  },
  "language_info": {
   "codemirror_mode": {
    "name": "ipython",
    "version": 2
   },
   "file_extension": ".py",
   "mimetype": "text/x-python",
   "name": "python",
   "nbconvert_exporter": "python",
   "pygments_lexer": "ipython2",
   "version": "2.7.11"
  }
 },
 "nbformat": 4,
 "nbformat_minor": 2
}
